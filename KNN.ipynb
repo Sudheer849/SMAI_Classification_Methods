{
 "cells": [
  {
   "cell_type": "markdown",
   "id": "186be3d3",
   "metadata": {},
   "source": [
    "# Assignment 2 - Question 1\n",
    "The objective of this assignment is to get you familiarize with  the  problem  of  `KNN Classifiers`.\n",
    "\n",
    "\n",
    "## Instructions\n",
    "- Do not Use Direct Inbuilt functions for the Task.\n",
    "- Numpy or other math libraries are allowed \n",
    "- Ensure that this notebook runs without errors when the cells are run in sequence.\n",
    "- Do not change the contents of the Given cells. Use new cells to Write your code.\n",
    "\n",
    "\n",
    "## Submission\n",
    "- Ensure that this notebook runs without errors when the cells are run in sequence.\n",
    "- Rename the notebook to `<roll_number>_Q1.ipynb`\n",
    "- Fill the Name and Roll number in the below markdown"
   ]
  },
  {
   "cell_type": "markdown",
   "id": "6f6269f1",
   "metadata": {},
   "source": [
    "Name: Padala Sudheer Reddy\n",
    "Roll Number: 2020101065"
   ]
  },
  {
   "cell_type": "markdown",
   "id": "edeabff5",
   "metadata": {},
   "source": [
    "### Dataset\n",
    "\n",
    "Use the code below to load the Dataset"
   ]
  },
  {
   "cell_type": "code",
   "execution_count": 7,
   "id": "69cac090",
   "metadata": {},
   "outputs": [],
   "source": [
    "import numpy as np\n",
    "import pandas as pd\n",
    "from sklearn.model_selection import train_test_split"
   ]
  },
  {
   "cell_type": "code",
   "execution_count": 8,
   "id": "e0fa6912",
   "metadata": {},
   "outputs": [],
   "source": [
    "#Load data\n",
    "iris = pd.read_csv('Iris.csv')\n",
    "#data cleaning\n",
    "iris.drop(columns=\"Id\",inplace=True)"
   ]
  },
  {
   "cell_type": "code",
   "execution_count": 9,
   "id": "1ca8135b",
   "metadata": {},
   "outputs": [],
   "source": [
    "#features and labels\n",
    "X=iris.iloc[:,0:4].values\n",
    "y=iris.iloc[:,4].values\n",
    "\n",
    "#Train and Test split\n",
    "X_train,X_test,y_train,y_test=train_test_split(X,y,test_size=0.2,random_state=0)"
   ]
  },
  {
   "cell_type": "markdown",
   "id": "d14014cb",
   "metadata": {},
   "source": [
    "Write your Code below for KNN Classifier.<br>\n",
    "Use different values of K and test the accuracies."
   ]
  },
  {
   "cell_type": "code",
   "execution_count": 10,
   "id": "10eabf01",
   "metadata": {},
   "outputs": [],
   "source": [
    "thisdict = {\n",
    "  \"Iris-virginica\": 0,\n",
    "  \"Iris-versicolor\": 1,\n",
    "  \"Iris-setosa\": 2\n",
    "}"
   ]
  },
  {
   "cell_type": "code",
   "execution_count": 11,
   "id": "6ca8c19d",
   "metadata": {
    "scrolled": false
   },
   "outputs": [],
   "source": [
    "epochs = 500\n",
    "Accuracies = np.zeros((epochs,len(X_train)))\n",
    "maxk = len(X_train)\n",
    "for itr in range(epochs):\n",
    "    X_train,X_test,y_train,y_test=train_test_split(X,y,test_size=0.2,random_state=itr)\n",
    "    trpts = len(X_train)\n",
    "    tespts = len(X_test)\n",
    "    dist = np.zeros((tespts, trpts))\n",
    "    sortcls = np.zeros((tespts, trpts))\n",
    "    finmatrix = np.zeros((tespts, trpts))\n",
    "    for i in range(tespts):\n",
    "        for j in range(trpts):\n",
    "            dist[i][j] = (((X_test[i][0] - X_train[j][0])**2) + ((X_test[i][1] - X_train[j][1])**2) + ((X_test[i][2] - X_train[j][2])**2) + ((X_test[i][3] - X_train[j][3])**2))/4\n",
    "        classes = np.argsort(dist[i])\n",
    "        for j in range(trpts):\n",
    "            sortcls[i][j] = thisdict[y_train[classes[j]]]\n",
    "        freq = np.zeros(trpts)\n",
    "        maxi = 0\n",
    "        ind = 0\n",
    "        for j in range(trpts):\n",
    "            freq[int(sortcls[i][j])] += 1\n",
    "            if(maxi < freq[int(sortcls[i][j])]):\n",
    "                maxi = freq[int(sortcls[i][j])]\n",
    "                ind = int(sortcls[i][j])\n",
    "            finmatrix[i][j] = ind\n",
    "    for k in range(maxk):\n",
    "        count=0\n",
    "        for i in range(tespts):\n",
    "            if(int(finmatrix[i][k] == int(thisdict[y_test[i]]))):\n",
    "                count+=1\n",
    "        Accuracies[itr][k] = count*100/tespts"
   ]
  },
  {
   "cell_type": "code",
   "execution_count": 12,
   "id": "168f4c0a",
   "metadata": {},
   "outputs": [
    {
     "name": "stdout",
     "output_type": "stream",
     "text": [
      "k = 1 , Accuracy = 95.77333333333328\n",
      "k = 2 , Accuracy = 95.77333333333328\n",
      "k = 3 , Accuracy = 96.1066666666666\n",
      "k = 4 , Accuracy = 96.1066666666666\n",
      "k = 5 , Accuracy = 96.22666666666662\n",
      "k = 6 , Accuracy = 96.22666666666662\n",
      "k = 7 , Accuracy = 96.42666666666666\n",
      "k = 8 , Accuracy = 96.42666666666666\n",
      "k = 9 , Accuracy = 96.4999999999999\n",
      "k = 10 , Accuracy = 96.4999999999999\n",
      "k = 11 , Accuracy = 96.55999999999996\n",
      "k = 12 , Accuracy = 96.55999999999996\n",
      "k = 13 , Accuracy = 96.73333333333319\n",
      "k = 14 , Accuracy = 96.73333333333319\n",
      "k = 15 , Accuracy = 96.61333333333327\n",
      "k = 16 , Accuracy = 96.61333333333327\n",
      "k = 17 , Accuracy = 96.61999999999996\n",
      "k = 18 , Accuracy = 96.61999999999996\n",
      "k = 19 , Accuracy = 96.09999999999994\n",
      "k = 20 , Accuracy = 96.09999999999994\n",
      "k = 21 , Accuracy = 95.68666666666665\n",
      "k = 22 , Accuracy = 95.68666666666665\n",
      "k = 23 , Accuracy = 95.16666666666667\n",
      "k = 24 , Accuracy = 95.16666666666667\n",
      "k = 25 , Accuracy = 94.64666666666662\n",
      "k = 26 , Accuracy = 94.64666666666662\n",
      "k = 27 , Accuracy = 94.42666666666666\n",
      "k = 28 , Accuracy = 94.42666666666666\n",
      "k = 29 , Accuracy = 94.36000000000001\n",
      "k = 30 , Accuracy = 94.36000000000001\n",
      "k = 31 , Accuracy = 94.3266666666666\n",
      "k = 32 , Accuracy = 94.3266666666666\n",
      "k = 33 , Accuracy = 94.27999999999997\n",
      "k = 34 , Accuracy = 94.27999999999997\n",
      "k = 35 , Accuracy = 94.05333333333333\n",
      "k = 36 , Accuracy = 94.05333333333333\n",
      "k = 37 , Accuracy = 93.85333333333337\n",
      "k = 38 , Accuracy = 93.85333333333337\n",
      "k = 39 , Accuracy = 93.45333333333328\n",
      "k = 40 , Accuracy = 93.45333333333328\n",
      "k = 41 , Accuracy = 92.98666666666661\n",
      "k = 42 , Accuracy = 92.98666666666661\n",
      "k = 43 , Accuracy = 92.44666666666657\n",
      "k = 44 , Accuracy = 92.43333333333322\n",
      "k = 45 , Accuracy = 91.91999999999999\n",
      "k = 46 , Accuracy = 91.91333333333331\n",
      "k = 47 , Accuracy = 91.47333333333339\n",
      "k = 48 , Accuracy = 91.46666666666671\n",
      "k = 49 , Accuracy = 91.14000000000003\n",
      "k = 50 , Accuracy = 91.12666666666672\n",
      "k = 51 , Accuracy = 90.83333333333323\n",
      "k = 52 , Accuracy = 90.79999999999991\n",
      "k = 53 , Accuracy = 90.51333333333334\n",
      "k = 54 , Accuracy = 90.47999999999999\n",
      "k = 55 , Accuracy = 90.21333333333334\n",
      "k = 56 , Accuracy = 90.12666666666664\n",
      "k = 57 , Accuracy = 89.74666666666663\n",
      "k = 58 , Accuracy = 89.66666666666664\n",
      "k = 59 , Accuracy = 89.33999999999999\n",
      "k = 60 , Accuracy = 89.26666666666664\n",
      "k = 61 , Accuracy = 88.76666666666668\n",
      "k = 62 , Accuracy = 88.74000000000001\n",
      "k = 63 , Accuracy = 88.44666666666672\n",
      "k = 64 , Accuracy = 88.41333333333338\n",
      "k = 65 , Accuracy = 87.87333333333343\n",
      "k = 66 , Accuracy = 87.77333333333344\n",
      "k = 67 , Accuracy = 87.2266666666667\n",
      "k = 68 , Accuracy = 87.13333333333338\n",
      "k = 69 , Accuracy = 86.00666666666673\n",
      "k = 70 , Accuracy = 85.80666666666674\n",
      "k = 71 , Accuracy = 84.27333333333337\n",
      "k = 72 , Accuracy = 83.73333333333342\n",
      "k = 73 , Accuracy = 81.23333333333333\n",
      "k = 74 , Accuracy = 80.68666666666667\n",
      "k = 75 , Accuracy = 77.18666666666671\n",
      "k = 76 , Accuracy = 76.53333333333337\n",
      "k = 77 , Accuracy = 72.24000000000007\n",
      "k = 78 , Accuracy = 71.26000000000006\n",
      "k = 79 , Accuracy = 67.03333333333332\n",
      "k = 80 , Accuracy = 66.15999999999994\n",
      "k = 81 , Accuracy = 63.31999999999997\n",
      "k = 82 , Accuracy = 62.02666666666662\n",
      "k = 83 , Accuracy = 60.53333333333327\n",
      "k = 84 , Accuracy = 59.41999999999993\n",
      "k = 85 , Accuracy = 58.333333333333286\n",
      "k = 86 , Accuracy = 57.36666666666666\n",
      "k = 87 , Accuracy = 56.506666666666604\n",
      "k = 88 , Accuracy = 55.7133333333333\n",
      "k = 89 , Accuracy = 54.946666666666644\n",
      "k = 90 , Accuracy = 53.88666666666666\n",
      "k = 91 , Accuracy = 53.28666666666667\n",
      "k = 92 , Accuracy = 52.7\n",
      "k = 93 , Accuracy = 52.299999999999976\n",
      "k = 94 , Accuracy = 52.13999999999999\n",
      "k = 95 , Accuracy = 51.99333333333331\n",
      "k = 96 , Accuracy = 51.87999999999999\n",
      "k = 97 , Accuracy = 51.739999999999974\n",
      "k = 98 , Accuracy = 51.65999999999996\n",
      "k = 99 , Accuracy = 51.51333333333329\n",
      "k = 100 , Accuracy = 51.3533333333333\n",
      "k = 101 , Accuracy = 51.25999999999998\n",
      "k = 102 , Accuracy = 51.119999999999976\n",
      "k = 103 , Accuracy = 51.02666666666664\n",
      "k = 104 , Accuracy = 50.906666666666645\n",
      "k = 105 , Accuracy = 50.753333333333316\n",
      "k = 106 , Accuracy = 50.57999999999997\n",
      "k = 107 , Accuracy = 50.346666666666636\n",
      "k = 108 , Accuracy = 50.1333333333333\n",
      "k = 109 , Accuracy = 49.766666666666666\n",
      "k = 110 , Accuracy = 49.493333333333325\n",
      "k = 111 , Accuracy = 49.0066666666667\n",
      "k = 112 , Accuracy = 48.31333333333336\n",
      "k = 113 , Accuracy = 47.69333333333333\n",
      "k = 114 , Accuracy = 46.479999999999954\n",
      "k = 115 , Accuracy = 44.61333333333334\n",
      "k = 116 , Accuracy = 43.39333333333336\n",
      "k = 117 , Accuracy = 41.333333333333336\n",
      "k = 118 , Accuracy = 36.92000000000002\n",
      "k = 119 , Accuracy = 34.15333333333333\n",
      "k = 120 , Accuracy = 29.233333333333317\n"
     ]
    },
    {
     "data": {
      "image/png": "[encoded data removed]",
      "text/plain": [
       "<Figure size 432x288 with 1 Axes>"
      ]
     },
     "metadata": {
      "needs_background": "light"
     },
     "output_type": "display_data"
    }
   ],
   "source": [
    "from matplotlib import pyplot as plt\n",
    "acurk = Accuracies.mean(axis=0)\n",
    "for i in range(maxk):\n",
    "    print(\"k =\",i+1,\",\",\"Accuracy =\",acurk[i])\n",
    "num = np.arange(1,maxk+1,1)\n",
    "plt.plot(num,acurk)\n",
    "plt.xlabel('k')\n",
    "plt.ylabel('Accuracy')\n",
    "plt.title('Accuracy vs k')\n",
    "plt.show()\n"
   ]
  },
  {
   "cell_type": "markdown",
   "id": "1c3ac0ca",
   "metadata": {},
   "source": [
    "### Questions\n",
    "\n",
    "1) What are the Advantages and Disadvantages of KNN algorithm?<br>\n",
    "2) What is the complexity of the KNN algorithm during Training and Testing?<br> \n",
    "3) Is euclidian distance the only distance metric used in KNN? \n",
    "4) what K value gave the best accuracy?"
   ]
  },
  {
   "cell_type": "markdown",
   "id": "47958869",
   "metadata": {},
   "source": [
    "# Q1\n",
    "### Advantages\n",
    "1. As there is no training in KNN algorithm,new data can be added at any point of time for testing\n",
    "2. KNN is very easy to implement and intuitive to understand\n"
   ]
  },
  {
   "cell_type": "markdown",
   "id": "953e3932",
   "metadata": {},
   "source": [
    "### Disadvantages\n",
    "1. The time complexity to predict the labels of the large data can be too large as it takes O($nlogn$) for every test point , where n is the no of train points\n",
    "2. For assigning a label for a test point, we take k train points which has minimum distances from the test point. All these train points are given equal importance irrespective of thier distances "
   ]
  },
  {
   "cell_type": "markdown",
   "id": "64e2ee12",
   "metadata": {},
   "source": [
    "# Q2\n",
    "\n",
    "* The time complexity for training is O(1)\n",
    "* As we have to find the best k, I computed the accuracies for every possible k. Let n be no of train data points and m be the no of test points. The time complexity taken for computing accuracies for all k is O($nm.log(n)$)."
   ]
  },
  {
   "cell_type": "markdown",
   "id": "163eecd3",
   "metadata": {},
   "source": [
    "# Q3\n",
    "- No we can use different kinds of distance metrics like Manhattan, Minkowski and Hamming distance.\n",
    "- But euclidean distance is more effective as it gives the shortest distance"
   ]
  },
  {
   "cell_type": "markdown",
   "id": "c98eeae0",
   "metadata": {},
   "source": [
    "# Q4\n",
    "- I trained the model for 500 epochs, where in each epoch the training data and test data are splitted differently to ensure that the model performs well on test data\n",
    "- The best K obtained is 13."
   ]
  },
  {
   "cell_type": "code",
   "execution_count": null,
   "id": "47ee00a2",
   "metadata": {},
   "outputs": [],
   "source": []
  }
 ],
 "metadata": {
  "kernelspec": {
   "display_name": "Python 3 (ipykernel)",
   "language": "python",
   "name": "python3"
  },
  "language_info": {
   "codemirror_mode": {
    "name": "ipython",
    "version": 3
   },
   "file_extension": ".py",
   "mimetype": "text/x-python",
   "name": "python",
   "nbconvert_exporter": "python",
   "pygments_lexer": "ipython3",
   "version": "3.8.10"
  }
 },
 "nbformat": 4,
 "nbformat_minor": 5
}
